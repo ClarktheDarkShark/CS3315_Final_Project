{
  "nbformat": 4,
  "nbformat_minor": 0,
  "metadata": {
    "colab": {
      "provenance": [],
      "machine_shape": "hm",
      "gpuType": "T4",
      "include_colab_link": true
    },
    "kernelspec": {
      "name": "python3",
      "display_name": "Python 3"
    },
    "language_info": {
      "name": "python"
    },
    "accelerator": "GPU"
  },
  "cells": [
    {
      "cell_type": "markdown",
      "metadata": {
        "id": "view-in-github",
        "colab_type": "text"
      },
      "source": [
        "<a href=\"https://colab.research.google.com/github/ClarktheDarkShark/CS3315_Final_Project/blob/main/class-1/class-1-LatentSpacePyTorch.ipynb\" target=\"_parent\"><img src=\"https://colab.research.google.com/assets/colab-badge.svg\" alt=\"Open In Colab\"/></a>"
      ]
    },
    {
      "cell_type": "markdown",
      "source": [
        "## Christopher Clark's noteboook\n",
        "Homework - Week 1\n",
        "\n",
        "7 Sept 2025"
      ],
      "metadata": {
        "id": "_j7iGNWLlB0y"
      }
    },
    {
      "cell_type": "markdown",
      "source": [
        "The provided code defines and utilizes an Autoencoder neural network for the MNIST dataset. Here's a detailed explanation:\n",
        "\n",
        "- **Autoencoder Class**: This class creates a neural network with encoder and decoder components. The encoder compresses the input image into a lower-dimensional latent space, and the decoder reconstructs the image from this latent space. The network is structured to flatten and process 28x28 grayscale MNIST images.\n",
        "\n",
        "- **Data Loading**: Utilizes PyTorch's DataLoader to efficiently load the MNIST dataset, applying transformations to normalize the images.\n",
        "\n",
        "- **Training Loop**: Iterates over the training dataset, feeding batches of images through the model, calculating the reconstruction loss, and updating the model's weights to minimize this loss, effectively learning to compress and reconstruct the input images.\n",
        "\n",
        "- **Visualization**: After training, the script visualizes a batch of original images and their reconstructions from the autoencoder. It also prints the latent space representations, showcasing what the model has learned to encode.\n",
        "\n",
        "- **Utility Functions**: Includes `imshow` for displaying tensors as images. It unnormalizes the data and uses Matplotlib to plot them.\n",
        "\n",
        "This script encapsulates the end-to-end process of training an autoencoder on the MNIST dataset, visualizing the results, and examining the learned latent space."
      ],
      "metadata": {
        "id": "MXble1sY6GuN"
      }
    },
    {
      "cell_type": "code",
      "source": [
        "import torch\n",
        "import torch.nn as nn\n",
        "import torchvision\n",
        "import torchvision.transforms as transforms\n",
        "from torchvision.datasets import MNIST\n",
        "from torch.utils.data import DataLoader\n",
        "import matplotlib.pyplot as plt\n",
        "import torchvision.utils as vutils\n",
        "import numpy as np"
      ],
      "metadata": {
        "id": "QTp8sYxwBg-1"
      },
      "execution_count": 1,
      "outputs": []
    },
    {
      "cell_type": "markdown",
      "source": [
        " The `Autoencoder` class inherits from `nn.Module`, a base class for all neural network modules in PyTorch. Here's a breakdown of the code and its functionality:\n",
        "\n",
        "### Initialization Method (`__init__`)\n",
        "- **Parameters**: The `__init__` method accepts a single parameter `encoding_dim`, which specifies the size of the latent space where the input data is compressed.\n",
        "- **Encoder**: The encoder part of the autoencoder is designed to compress the input data (in this case, an image) into a lower-dimensional representation called the latent space. It consists of a sequence of layers:\n",
        "  - `nn.Linear(28 * 28, 128)`: This layer flattens the input image (assumed to be 28x28 pixels, typical for MNIST dataset images) into a one-dimensional array and performs a linear transformation to reduce its dimension to 128.\n",
        "  - `nn.ReLU(True)`: A Rectified Linear Unit (ReLU) activation function is applied to introduce non-linearity, helping the model learn complex patterns.\n",
        "  - Another `nn.Linear(128, encoding_dim)`: Further reduces the dimension from 128 to the specified `encoding_dim`.\n",
        "  - Another `nn.ReLU(True)`: Another ReLU activation for non-linearity.\n",
        "- **Decoder**: The decoder part reconstructs the original input data from the compressed representation. It mirrors the encoder structure but in reverse, aiming to expand the compressed data back to its original shape:\n",
        "  - `nn.Linear(encoding_dim, 128)`: Expands the compressed data from `encoding_dim` back to 128.\n",
        "  - `nn.ReLU(True)`: Applies ReLU activation.\n",
        "  - `nn.Linear(128, 28 * 28)`: Transforms the data from 128 back to the flattened image size of 784 (28x28).\n",
        "  - `nn.Sigmoid()`: Applies a sigmoid activation function to ensure the output values are between 0 and 1, suitable for image data where pixel values typically fall within this range.\n",
        "\n",
        "### Forward Method (`forward`)\n",
        "- **Parameter**: The `forward` method defines how the input `x` flows through the network.\n",
        "- **Process**:\n",
        "  - `x.view(-1, 28*28)`: First, the input `x` is reshaped into a one-dimensional array (flattened) if not already done.\n",
        "  - `self.encoder(x)`: The flattened `x` is then passed through the encoder.\n",
        "  - `self.decoder(x)`: The output from the encoder, which is the compressed representation, is fed into the decoder.\n",
        "- **Output**: The final output is reshaped back to the original image dimensions (`-1, 1, 28, 28`), where `-1` is a placeholder that automatically adjusts based on the batch size.\n"
      ],
      "metadata": {
        "id": "Lth1Gula4Sz_"
      }
    },
    {
      "cell_type": "code",
      "source": [
        "class Autoencoder(nn.Module):\n",
        "    def __init__(self, encoding_dim):\n",
        "        super(Autoencoder, self).__init__()\n",
        "        # Encoder: compresses the image into a lower-dimensional latent space\n",
        "        self.encoder = nn.Sequential(\n",
        "            nn.Linear(28 * 28, 256),  # Flatten the image and then linearly transform it\n",
        "            nn.ReLU(True),  # Non-linear activation function\n",
        "            nn.Linear(256, encoding_dim),  # Linear transformation to the encoding dimension\n",
        "            nn.ReLU(True)  # Non-linear activation function\n",
        "        )\n",
        "        # Decoder: reconstructs the image from the latent space\n",
        "        self.decoder = nn.Sequential(\n",
        "            nn.Linear(encoding_dim, 256),  # Linearly transforms the encoding\n",
        "            nn.ReLU(True),  # Non-linear activation function\n",
        "            nn.Linear(256, 28 * 28),  # Transforms back to original image shape\n",
        "            nn.Sigmoid()  # Sigmoid activation to output values between 0 and 1\n",
        "        )\n",
        "\n",
        "    def forward(self, x):\n",
        "        x = self.encoder(x.view(-1, 28*28))\n",
        "        if self.training and 0.2 > 0:            # <- added noisem, but only while training\n",
        "            x = x + torch.randn_like(x) * 0.2\n",
        "        x = self.decoder(x)\n",
        "        return x.view(-1, 1, 28, 28)"
      ],
      "metadata": {
        "id": "wWlX07fEBjL8"
      },
      "execution_count": 2,
      "outputs": []
    },
    {
      "cell_type": "code",
      "source": [
        "\n",
        "def imshow(img):\n",
        "    img = img.cpu() / 2 + 0.5  # Unnormalize the image\n",
        "    npimg = img.numpy()  # Convert the tensor to a numpy array\n",
        "    plt.imshow(np.transpose(npimg, (1, 2, 0)))  # Reshape and display the image\n",
        "    plt.show()"
      ],
      "metadata": {
        "id": "yP7S8PazBoD5"
      },
      "execution_count": 3,
      "outputs": []
    },
    {
      "cell_type": "code",
      "source": [
        "# Transform: converts images to PyTorch tensors and normalizes them\n",
        "transform = transforms.Compose([\n",
        "    transforms.ToTensor(),\n",
        "    transforms.Normalize((0.5,), (0.5,))\n",
        "])\n"
      ],
      "metadata": {
        "id": "yJAgqh0TBrMa"
      },
      "execution_count": 4,
      "outputs": []
    },
    {
      "cell_type": "code",
      "source": [
        "import os\n",
        "import urllib.request\n",
        "from torchvision.datasets import MNIST\n",
        "from torch.utils.data import DataLoader\n",
        "import torchvision.transforms as transforms\n",
        "\n",
        "mnist_dir = \"./data/MNIST/raw/\"\n",
        "os.makedirs(mnist_dir, exist_ok=True)\n",
        "\n",
        "base_url = \"https://github.com/nispoe/GWU-SEAS-8525/raw/main/class-1/\"\n",
        "files = [\n",
        "    \"train-images-idx3-ubyte.gz\",\n",
        "    \"train-labels-idx1-ubyte.gz\",\n",
        "    \"t10k-images-idx3-ubyte.gz\",\n",
        "    \"t10k-labels-idx1-ubyte.gz\"\n",
        "]\n",
        "\n",
        "for file in files:\n",
        "    file_path = os.path.join(mnist_dir, file)\n",
        "    if not os.path.exists(file_path):\n",
        "        print(f\"Downloading {file}...\")\n",
        "        urllib.request.urlretrieve(base_url + file, file_path)\n",
        "\n",
        "transform = transforms.Compose([transforms.ToTensor()])"
      ],
      "metadata": {
        "id": "ou-25YXmrGFQ"
      },
      "execution_count": 5,
      "outputs": []
    },
    {
      "cell_type": "code",
      "source": [
        "import gzip\n",
        "import shutil\n",
        "\n",
        "gz_files = [f for f in os.listdir(mnist_dir) if f.endswith(\".gz\")]\n",
        "\n",
        "for file in gz_files:\n",
        "    gz_path = os.path.join(mnist_dir, file)\n",
        "    output_path = gz_path.replace(\".gz\", \"\")  # Remove .gz extension\n",
        "\n",
        "    # Extract the file\n",
        "    with gzip.open(gz_path, 'rb') as f_in:\n",
        "        with open(output_path, 'wb') as f_out:\n",
        "            shutil.copyfileobj(f_in, f_out)"
      ],
      "metadata": {
        "id": "Ql170ZPyry6e"
      },
      "execution_count": 6,
      "outputs": []
    },
    {
      "cell_type": "code",
      "source": [
        "# MNIST dataset loading\n",
        "from torch.utils.data import random_split\n",
        "\n",
        "batch_size = 64    # <- add batch_size variable to better maintain across datasets\n",
        "\n",
        "#train_dataset = MNIST(root='./data', train=True, download=True, transform=transform)\n",
        "train_dataset = MNIST(root='./data', train=True, download=False, transform=transform)\n",
        "train_loader = DataLoader(dataset=train_dataset, batch_size=batch_size, shuffle=True)\n",
        "\n",
        "\n",
        "# Modified the train_loader and added a val_loader to include a validation set for training\n",
        "n_val = int(0.1 * len(train_dataset))\n",
        "train_ds, val_ds = random_split(train_dataset, [len(train_dataset) - n_val, n_val],\n",
        "                                generator=torch.Generator().manual_seed(42))\n",
        "\n",
        "train_loader = DataLoader(train_ds, batch_size=batch_size, shuffle=True)\n",
        "val_loader  = DataLoader(val_ds,  batch_size=batch_size, shuffle=False)\n",
        "\n",
        "# Add test set loader (this was missing and essential)\n",
        "test_dataset = MNIST(root='./data', train=False, download=False, transform=transform)\n",
        "test_loader  = DataLoader(test_dataset, batch_size=batch_size, shuffle=False)"
      ],
      "metadata": {
        "id": "cQpswSgnBw4E"
      },
      "execution_count": 7,
      "outputs": []
    },
    {
      "cell_type": "code",
      "source": [
        "device = torch.device(\"cuda\" if torch.cuda.is_available() else \"cpu\")\n",
        "print('Device:', device)  # <- added this to verify what device I am on\n",
        "\n",
        "model = Autoencoder(encoding_dim=64).to(device)\n",
        "criterion = nn.MSELoss()  # Loss function\n",
        "optimizer = torch.optim.Adam(model.parameters(), lr=1e-3)  # Optimizer  <- Changed learning rate"
      ],
      "metadata": {
        "id": "W8NemtCtB35p",
        "outputId": "f34bed07-4c85-4f6d-e8f2-8a686aa7d39c",
        "colab": {
          "base_uri": "https://localhost:8080/"
        }
      },
      "execution_count": 8,
      "outputs": [
        {
          "output_type": "stream",
          "name": "stdout",
          "text": [
            "Device: cuda\n"
          ]
        }
      ]
    },
    {
      "cell_type": "code",
      "source": [
        "from torch.amp import GradScaler, autocast  # Updated import\n",
        "from copy import deepcopy\n",
        "\n",
        "num_epochs = 200\n",
        "# Correct way to initialize GradScaler\n",
        "scaler = GradScaler(device=\"cuda\")  # New syntax\n",
        "\n",
        "best_weights = None\n",
        "best_val = float(\"inf\")\n",
        "patience_ctr = 0\n",
        "early_stop = 5    # <- Implementing early stop manually\n",
        "for epoch in range(num_epochs):\n",
        "    model.train()\n",
        "    running_loss = 0.0\n",
        "    for data in train_loader:\n",
        "        img, _ = data\n",
        "        img = img.to(device)\n",
        "\n",
        "        with autocast(device_type=\"cuda\"):  # Updated syntax\n",
        "            output = model(img)\n",
        "            loss = criterion(output, img)\n",
        "\n",
        "\n",
        "        optimizer.zero_grad()\n",
        "        scaler.scale(loss).backward()\n",
        "        scaler.step(optimizer)\n",
        "        scaler.update()\n",
        "        running_loss += loss.item() * img.size(0)\n",
        "\n",
        "    train_epoch_loss = running_loss / len(train_loader.dataset)\n",
        "\n",
        "\n",
        "    # Conduct a validation step to determine generalizability\n",
        "    model.eval()\n",
        "    val_running = 0.0\n",
        "    with torch.no_grad(), autocast(device_type=\"cuda\", enabled=(device.type == \"cuda\")):\n",
        "        for img, _ in val_loader:\n",
        "            img = img.to(device)\n",
        "            out = model(img)\n",
        "            vloss = criterion(out, img)\n",
        "            val_running += vloss.item() * img.size(0)\n",
        "\n",
        "    val_epoch_loss = val_running / len(val_loader.dataset)\n",
        "    print(f\"Epoch {epoch+1}/{num_epochs} | train {train_epoch_loss:.4f} | val {val_epoch_loss:.5f}\")\n",
        "\n",
        "\n",
        "\n",
        "    if val_epoch_loss < best_val:\n",
        "        best_val = val_epoch_loss\n",
        "        patience_ctr = 0\n",
        "        best_weights = deepcopy(model.state_dict())\n",
        "    else:\n",
        "        patience_ctr += 1\n",
        "        if patience_ctr >= early_stop:\n",
        "            print(f\"Early stop: no improvement for {early_stop} epochs. Best val={best_val:.4f}\")\n",
        "            break\n",
        "\n",
        "# restore best weights (if any)\n",
        "if best_weights is not None:\n",
        "    model.load_state_dict(best_weights)"
      ],
      "metadata": {
        "colab": {
          "base_uri": "https://localhost:8080/"
        },
        "id": "GRk72snY6LPD",
        "outputId": "ed3b7fee-e04e-4c7e-d93c-dea3f20a7a36"
      },
      "execution_count": 9,
      "outputs": [
        {
          "output_type": "stream",
          "name": "stdout",
          "text": [
            "Epoch 1/200 | train 0.0335 | val 0.01682\n",
            "Epoch 2/200 | train 0.0136 | val 0.01144\n",
            "Epoch 3/200 | train 0.0104 | val 0.00954\n",
            "Epoch 4/200 | train 0.0089 | val 0.00837\n",
            "Epoch 5/200 | train 0.0080 | val 0.00762\n",
            "Epoch 6/200 | train 0.0074 | val 0.00724\n",
            "Epoch 7/200 | train 0.0070 | val 0.00681\n",
            "Epoch 8/200 | train 0.0066 | val 0.00648\n",
            "Epoch 9/200 | train 0.0064 | val 0.00624\n",
            "Epoch 10/200 | train 0.0062 | val 0.00618\n",
            "Epoch 11/200 | train 0.0060 | val 0.00610\n",
            "Epoch 12/200 | train 0.0059 | val 0.00586\n",
            "Epoch 13/200 | train 0.0057 | val 0.00586\n",
            "Epoch 14/200 | train 0.0056 | val 0.00570\n",
            "Epoch 15/200 | train 0.0055 | val 0.00549\n",
            "Epoch 16/200 | train 0.0055 | val 0.00548\n",
            "Epoch 17/200 | train 0.0054 | val 0.00545\n",
            "Epoch 18/200 | train 0.0053 | val 0.00541\n",
            "Epoch 19/200 | train 0.0053 | val 0.00539\n",
            "Epoch 20/200 | train 0.0052 | val 0.00530\n",
            "Epoch 21/200 | train 0.0052 | val 0.00536\n",
            "Epoch 22/200 | train 0.0051 | val 0.00527\n",
            "Epoch 23/200 | train 0.0051 | val 0.00519\n",
            "Epoch 24/200 | train 0.0051 | val 0.00512\n",
            "Epoch 25/200 | train 0.0050 | val 0.00513\n",
            "Epoch 26/200 | train 0.0050 | val 0.00509\n",
            "Epoch 27/200 | train 0.0049 | val 0.00504\n",
            "Epoch 28/200 | train 0.0049 | val 0.00503\n",
            "Epoch 29/200 | train 0.0049 | val 0.00499\n",
            "Epoch 30/200 | train 0.0049 | val 0.00498\n",
            "Epoch 31/200 | train 0.0048 | val 0.00494\n",
            "Epoch 32/200 | train 0.0048 | val 0.00497\n",
            "Epoch 33/200 | train 0.0048 | val 0.00492\n",
            "Epoch 34/200 | train 0.0048 | val 0.00487\n",
            "Epoch 35/200 | train 0.0047 | val 0.00488\n",
            "Epoch 36/200 | train 0.0047 | val 0.00491\n",
            "Epoch 37/200 | train 0.0047 | val 0.00486\n",
            "Epoch 38/200 | train 0.0047 | val 0.00476\n",
            "Epoch 39/200 | train 0.0047 | val 0.00482\n",
            "Epoch 40/200 | train 0.0046 | val 0.00485\n",
            "Epoch 41/200 | train 0.0046 | val 0.00482\n",
            "Epoch 42/200 | train 0.0046 | val 0.00476\n",
            "Epoch 43/200 | train 0.0046 | val 0.00477\n",
            "Early stop: no improvement for 5 epochs. Best val=0.0048\n"
          ]
        }
      ]
    },
    {
      "cell_type": "code",
      "source": [
        "!pip install torchmetrics\n",
        "\n",
        "from torchmetrics.image.ssim import StructuralSimilarityIndexMeasure\n",
        "\n",
        "ssim_metric = StructuralSimilarityIndexMeasure(data_range=1.0).to(device)\n",
        "\n",
        "model.eval()\n",
        "ssim_vals = []\n",
        "with torch.no_grad():\n",
        "    for img, _ in test_loader:\n",
        "        img = img.to(device)\n",
        "        recon = model(img)\n",
        "        ssim_vals.append(ssim_metric(recon, img).item())\n",
        "\n",
        "print(f\"Average SSIM: {sum(ssim_vals)/len(ssim_vals):.4f}\")\n"
      ],
      "metadata": {
        "id": "j-Lm9pFyXijB",
        "outputId": "3ca763ea-8109-4e93-e581-0f103b59b713",
        "colab": {
          "base_uri": "https://localhost:8080/"
        }
      },
      "execution_count": 20,
      "outputs": [
        {
          "output_type": "stream",
          "name": "stdout",
          "text": [
            "Requirement already satisfied: torchmetrics in /usr/local/lib/python3.12/dist-packages (1.8.2)\n",
            "Requirement already satisfied: numpy>1.20.0 in /usr/local/lib/python3.12/dist-packages (from torchmetrics) (2.0.2)\n",
            "Requirement already satisfied: packaging>17.1 in /usr/local/lib/python3.12/dist-packages (from torchmetrics) (25.0)\n",
            "Requirement already satisfied: torch>=2.0.0 in /usr/local/lib/python3.12/dist-packages (from torchmetrics) (2.8.0+cu126)\n",
            "Requirement already satisfied: lightning-utilities>=0.8.0 in /usr/local/lib/python3.12/dist-packages (from torchmetrics) (0.15.2)\n",
            "Requirement already satisfied: setuptools in /usr/local/lib/python3.12/dist-packages (from lightning-utilities>=0.8.0->torchmetrics) (75.2.0)\n",
            "Requirement already satisfied: typing_extensions in /usr/local/lib/python3.12/dist-packages (from lightning-utilities>=0.8.0->torchmetrics) (4.15.0)\n",
            "Requirement already satisfied: filelock in /usr/local/lib/python3.12/dist-packages (from torch>=2.0.0->torchmetrics) (3.19.1)\n",
            "Requirement already satisfied: sympy>=1.13.3 in /usr/local/lib/python3.12/dist-packages (from torch>=2.0.0->torchmetrics) (1.13.3)\n",
            "Requirement already satisfied: networkx in /usr/local/lib/python3.12/dist-packages (from torch>=2.0.0->torchmetrics) (3.5)\n",
            "Requirement already satisfied: jinja2 in /usr/local/lib/python3.12/dist-packages (from torch>=2.0.0->torchmetrics) (3.1.6)\n",
            "Requirement already satisfied: fsspec in /usr/local/lib/python3.12/dist-packages (from torch>=2.0.0->torchmetrics) (2025.3.0)\n",
            "Requirement already satisfied: nvidia-cuda-nvrtc-cu12==12.6.77 in /usr/local/lib/python3.12/dist-packages (from torch>=2.0.0->torchmetrics) (12.6.77)\n",
            "Requirement already satisfied: nvidia-cuda-runtime-cu12==12.6.77 in /usr/local/lib/python3.12/dist-packages (from torch>=2.0.0->torchmetrics) (12.6.77)\n",
            "Requirement already satisfied: nvidia-cuda-cupti-cu12==12.6.80 in /usr/local/lib/python3.12/dist-packages (from torch>=2.0.0->torchmetrics) (12.6.80)\n",
            "Requirement already satisfied: nvidia-cudnn-cu12==9.10.2.21 in /usr/local/lib/python3.12/dist-packages (from torch>=2.0.0->torchmetrics) (9.10.2.21)\n",
            "Requirement already satisfied: nvidia-cublas-cu12==12.6.4.1 in /usr/local/lib/python3.12/dist-packages (from torch>=2.0.0->torchmetrics) (12.6.4.1)\n",
            "Requirement already satisfied: nvidia-cufft-cu12==11.3.0.4 in /usr/local/lib/python3.12/dist-packages (from torch>=2.0.0->torchmetrics) (11.3.0.4)\n",
            "Requirement already satisfied: nvidia-curand-cu12==10.3.7.77 in /usr/local/lib/python3.12/dist-packages (from torch>=2.0.0->torchmetrics) (10.3.7.77)\n",
            "Requirement already satisfied: nvidia-cusolver-cu12==11.7.1.2 in /usr/local/lib/python3.12/dist-packages (from torch>=2.0.0->torchmetrics) (11.7.1.2)\n",
            "Requirement already satisfied: nvidia-cusparse-cu12==12.5.4.2 in /usr/local/lib/python3.12/dist-packages (from torch>=2.0.0->torchmetrics) (12.5.4.2)\n",
            "Requirement already satisfied: nvidia-cusparselt-cu12==0.7.1 in /usr/local/lib/python3.12/dist-packages (from torch>=2.0.0->torchmetrics) (0.7.1)\n",
            "Requirement already satisfied: nvidia-nccl-cu12==2.27.3 in /usr/local/lib/python3.12/dist-packages (from torch>=2.0.0->torchmetrics) (2.27.3)\n",
            "Requirement already satisfied: nvidia-nvtx-cu12==12.6.77 in /usr/local/lib/python3.12/dist-packages (from torch>=2.0.0->torchmetrics) (12.6.77)\n",
            "Requirement already satisfied: nvidia-nvjitlink-cu12==12.6.85 in /usr/local/lib/python3.12/dist-packages (from torch>=2.0.0->torchmetrics) (12.6.85)\n",
            "Requirement already satisfied: nvidia-cufile-cu12==1.11.1.6 in /usr/local/lib/python3.12/dist-packages (from torch>=2.0.0->torchmetrics) (1.11.1.6)\n",
            "Requirement already satisfied: triton==3.4.0 in /usr/local/lib/python3.12/dist-packages (from torch>=2.0.0->torchmetrics) (3.4.0)\n",
            "Requirement already satisfied: mpmath<1.4,>=1.1.0 in /usr/local/lib/python3.12/dist-packages (from sympy>=1.13.3->torch>=2.0.0->torchmetrics) (1.3.0)\n",
            "Requirement already satisfied: MarkupSafe>=2.0 in /usr/local/lib/python3.12/dist-packages (from jinja2->torch>=2.0.0->torchmetrics) (3.0.2)\n",
            "Average SSIM: 0.9586\n"
          ]
        }
      ]
    },
    {
      "cell_type": "code",
      "source": [
        "from sklearn.decomposition import PCA\n",
        "\n",
        "# Visualization of the original and reconstructed images\n",
        "dataiter = iter(train_loader)\n",
        "images, labels = next(dataiter)\n",
        "images = images.to(device)\n",
        "\n",
        "# Display original images\n",
        "print(\"Original Images\")\n",
        "imshow(vutils.make_grid(images[:5], normalize=True))\n",
        "\n",
        "# Encoded and decoded images\n",
        "with torch.no_grad():\n",
        "    # encoded_imgs = model.encoder(images.view(-1, 28*28)[:4])\n",
        "    encoded_imgs = model.encoder(images[:5].view(-1, 28*28))\n",
        "    decoded_imgs = model.decoder(encoded_imgs).view(-1, 1, 28, 28)\n",
        "\n",
        "\n",
        "# Display reconstructed images\n",
        "print(\"Reconstructed Images\")\n",
        "imshow(vutils.make_grid(decoded_imgs[:5], normalize=True))\n",
        "\n",
        "# Below code was not useful (at least for visualization). Added ^^^ above to visualize the generated images\n",
        "# print(\"Original Representation\")\n",
        "# print(img)\n",
        "\n",
        "# Print latent space\n",
        "# print(\"Latent space representations:\")\n",
        "# print(encoded_imgs)       # <- Same unuseful representation. Instead, visualize as below\n",
        "# imshow(vutils.make_grid(encoded_imgs[:5], normalize=True))\n",
        "# encoded = model.encoder(images.view(-1, 28*28)).detach().cpu()\n",
        "\n",
        "\n",
        "# Projecting to a 2D space for valuable visualization\n",
        "print(\"Latent Space (PCA Projection)\")\n",
        "with torch.no_grad():\n",
        "    z = model.encoder(images.view(-1, 28*28)).detach().cpu().numpy()\n",
        "z2 = PCA(n_components=2).fit_transform(z)\n",
        "\n",
        "scatter = plt.scatter(\n",
        "    z2[:, 0], z2[:, 1],\n",
        "    c=labels[:len(z2)].numpy(),\n",
        "    cmap=\"tab10\",\n",
        "    s=40\n",
        ")\n",
        "\n",
        "legend = plt.legend(*scatter.legend_elements(), title=\"Digits\")\n",
        "plt.gca().add_artist(legend)\n",
        "\n",
        "plt.title(\"Latent Space (2D Projection)\")\n",
        "plt.xlabel(\"PC1\")\n",
        "plt.ylabel(\"PC2\")\n",
        "plt.show()\n"
      ],
      "metadata": {
        "colab": {
          "base_uri": "https://localhost:8080/",
          "height": 827
        },
        "id": "FCsJeFk2B2Fi",
        "outputId": "47515f7b-86fa-4105-f9bd-42e55bbef209"
      },
      "execution_count": 24,
      "outputs": [
        {
          "output_type": "stream",
          "name": "stdout",
          "text": [
            "Original Images\n"
          ]
        },
        {
          "output_type": "display_data",
          "data": {
            "text/plain": [
              "<Figure size 640x480 with 1 Axes>"
            ],
            "image/png": "[encoded data removed]"
          },
          "metadata": {}
        },
        {
          "output_type": "stream",
          "name": "stdout",
          "text": [
            "Reconstructed Images\n"
          ]
        },
        {
          "output_type": "display_data",
          "data": {
            "text/plain": [
              "<Figure size 640x480 with 1 Axes>"
            ],
            "image/png": "[encoded data removed]"
          },
          "metadata": {}
        },
        {
          "output_type": "stream",
          "name": "stdout",
          "text": [
            "Latent Space (PCA Projection)\n"
          ]
        },
        {
          "output_type": "display_data",
          "data": {
            "text/plain": [
              "<Figure size 640x480 with 1 Axes>"
            ],
            "image/png": "[encoded data removed]"
          },
          "metadata": {}
        }
      ]
    },
    {
      "cell_type": "code",
      "source": [],
      "metadata": {
        "id": "9e-0VKYah2wt"
      },
      "execution_count": null,
      "outputs": []
    }
  ]
}